{
 "cells": [
  {
   "cell_type": "code",
   "execution_count": 1,
   "metadata": {},
   "outputs": [],
   "source": [
    "import airsim\n",
    "import cv2 \n",
    "import numpy as np \n",
    "import imutils\n",
    "import math"
   ]
  },
  {
   "cell_type": "code",
   "execution_count": null,
   "metadata": {},
   "outputs": [],
   "source": [
    "client = airsim.MultirotorClient()\n",
    "client.confirmConnection()\n",
    "client.enableApiControl(True)\n",
    "client.armDisarm(True)\n",
    "                 \n",
    "                 \n",
    "print(\"Take Off man\")\n",
    "client.takeoffAsync().join()\n",
    "#client.moveToPositionAsync(30,18, 54, 7).join()\n",
    "\"\"\"responses = client.simGetImages([airsim.ImageRequest(\"0\", airsim.ImageType.DepthVis, False, False)])\n",
    "response = responses[0]\n",
    "\n",
    "# get numpy array\n",
    "img1d = np.fromstring(response.image_data_uint8, dtype=np.uint8) \n",
    "\n",
    "# reshape array to 4 channel image array H X W X 4\n",
    "img_rgb = img1d.reshape(response.height, response.width, 3)\n",
    "\n",
    "# original image is fliped vertically\n",
    "img_rgb = np.flipud(img_rgb)\"\"\"\n",
    "print(\"@@@@@@@@@@@@@@@@@@@@@@@@@@\")\n",
    "while(True):\n",
    "    print(\"&&&&&&&&&&&&&&&&&&&&&&&&&&&&&&&&&&&&\")\n",
    "    responses = client.simGetImages([airsim.ImageRequest(\"0\", airsim.ImageType.DepthVis, False, False)])\n",
    "    response = responses[0]\n",
    "\n",
    "    # get numpy array\n",
    "    img1d = np.fromstring(response.image_data_uint8, dtype=np.uint8) \n",
    "\n",
    "    # reshape array to 4 channel image array H X W X 4\n",
    "    img_rgb = img1d.reshape(response.height, response.width, 3)\n",
    "\n",
    "    # original image is fliped vertically\n",
    "    image = np.flipud(img_rgb)\n",
    "    gray = cv2.cvtColor(image, cv2.COLOR_BGR2GRAY) \n",
    "\n",
    "    # Find Canny edges \n",
    "    edged = cv2.Canny(gray, 30, 200) \n",
    "    #cv2.waitKey(0) \n",
    "    print(\"%%%%%%%%%%%%%%%%%%%%%%%%%%%%%%%%%%%%%%%%%%\")\n",
    "\n",
    "    # Finding Contours \n",
    "    # Use a copy of the image e.g. edged.copy() \n",
    "    # since findContours alters the image \n",
    "    contours, hierarchy = cv2.findContours(edged, \n",
    "        cv2.RETR_EXTERNAL, cv2.CHAIN_APPROX_NONE) \n",
    "\n",
    "   # cv2.imshow('Canny Edges After Contouring', edged) \n",
    "    #cv2.waitKey(0) \n",
    "\n",
    "    print(\"Number of Contours found = \" + str(len(contours))) \n",
    "\n",
    "    # Draw all contours \n",
    "    # -1 signifies drawing all contours \n",
    "    cv2.drawContours(image, contours, -1, (0, 0, 255), 3) \n",
    "    gray = cv2.cvtColor(image, cv2.COLOR_BGR2GRAY)\n",
    "    blurred = cv2.GaussianBlur(gray, (5, 5), 0)\n",
    "    thresh = cv2.threshold(blurred, 60, 255, cv2.THRESH_BINARY_INV)[1]\n",
    "    cnts = cv2.findContours(thresh.copy(), cv2.RETR_EXTERNAL,cv2.CHAIN_APPROX_SIMPLE)\n",
    "    cnts = imutils.grab_contours(cnts)\n",
    "    #print(cnts)\n",
    "    m=0\n",
    "    for c in cnts:\n",
    "        #print(c)\n",
    "        #print(len(c))\n",
    "        #continue\n",
    "        area=cv2.contourArea(c)\n",
    "        print(area)\n",
    "        if area>m:\n",
    "            #print(c)\n",
    "            m=area\n",
    "            M = cv2.moments(c)\n",
    "            cX = int(M[\"m10\"] / (M[\"m00\"] ))\n",
    "            cY = int(M[\"m01\"] / (M[\"m00\"]))\n",
    "        #print(len(c))\n",
    "        # compute the center of the contour\n",
    "            #print(cX,cY)\n",
    "\n",
    "    color = np.array(image[cY][cX])\n",
    "    cv2.circle(image, (int(cX), int(cY)), 5, (255, 0, 0), -1)\n",
    "    #print(image[125][192]) # Let this distance be 2 m\n",
    "    #print(image[110][116]) # Let this distance be 4 m\n",
    "    def colorToDistance(color, slope = -0.02820855, constant = 7.03992702):\n",
    "        # Simple Linear Regression\n",
    "        return color*slope + constant\n",
    "    def pixelToComponents(pixel, distance, heading = 0, currentLocation = (0,0,0), image_size = image.shape[:2], max_angleX = math.radians(90)):\n",
    "        # heading = 0 means heading towards X axis, 90 means Y axis and so on\n",
    "        # max_x / 2 is equal to heading angle. if this - x = 0, then X,Y = distance*cos(heading), distance*sin(heading)\n",
    "        # AngleXY \n",
    "        max_y, max_x = image_size\n",
    "        x,y = pixel\n",
    "        mid_x = max_x / 2\n",
    "        mid_y = max_y / 2\n",
    "        deltaAngle = ((x - mid_x) / max_x) * max_angleX\n",
    "        angleXY = heading - deltaAngle\n",
    "        angleZ = -((y - mid_y) / max_y) * max_angleX\n",
    "        return np.multiply(distance, [math.cos(angleXY), math.sin(angleXY), math.sin(angleZ)])\n",
    "    dis = colorToDistance(color)\n",
    "    #print(dis)\n",
    "    #print(pixelToComponents((cX,cY), dis))\n",
    "    f_c=pixelToComponents((200, 194), dis)\n",
    "    client.moveToPositionAsync(f_c[0]*-1,f_c[1], f_c[2], 14).join()"
   ]
  },
  {
   "cell_type": "code",
   "execution_count": null,
   "metadata": {},
   "outputs": [],
   "source": [
    "\n",
    "\n",
    "\n",
    "\n"
   ]
  },
  {
   "cell_type": "code",
   "execution_count": null,
   "metadata": {},
   "outputs": [],
   "source": []
  },
  {
   "cell_type": "code",
   "execution_count": null,
   "metadata": {},
   "outputs": [],
   "source": []
  },
  {
   "cell_type": "code",
   "execution_count": null,
   "metadata": {},
   "outputs": [],
   "source": []
  },
  {
   "cell_type": "code",
   "execution_count": null,
   "metadata": {},
   "outputs": [],
   "source": []
  },
  {
   "cell_type": "code",
   "execution_count": null,
   "metadata": {},
   "outputs": [],
   "source": []
  },
  {
   "cell_type": "code",
   "execution_count": null,
   "metadata": {},
   "outputs": [],
   "source": []
  },
  {
   "cell_type": "code",
   "execution_count": null,
   "metadata": {},
   "outputs": [],
   "source": []
  },
  {
   "cell_type": "code",
   "execution_count": null,
   "metadata": {},
   "outputs": [],
   "source": []
  },
  {
   "cell_type": "code",
   "execution_count": null,
   "metadata": {},
   "outputs": [],
   "source": []
  },
  {
   "cell_type": "code",
   "execution_count": null,
   "metadata": {},
   "outputs": [],
   "source": []
  },
  {
   "cell_type": "code",
   "execution_count": null,
   "metadata": {},
   "outputs": [],
   "source": []
  },
  {
   "cell_type": "code",
   "execution_count": null,
   "metadata": {},
   "outputs": [],
   "source": []
  },
  {
   "cell_type": "code",
   "execution_count": null,
   "metadata": {},
   "outputs": [],
   "source": []
  },
  {
   "cell_type": "code",
   "execution_count": null,
   "metadata": {},
   "outputs": [],
   "source": []
  },
  {
   "cell_type": "code",
   "execution_count": null,
   "metadata": {},
   "outputs": [],
   "source": []
  }
 ],
 "metadata": {
  "kernelspec": {
   "display_name": "Python 3",
   "language": "python",
   "name": "python3"
  },
  "language_info": {
   "codemirror_mode": {
    "name": "ipython",
    "version": 3
   },
   "file_extension": ".py",
   "mimetype": "text/x-python",
   "name": "python",
   "nbconvert_exporter": "python",
   "pygments_lexer": "ipython3",
   "version": "3.7.3"
  }
 },
 "nbformat": 4,
 "nbformat_minor": 2
}
