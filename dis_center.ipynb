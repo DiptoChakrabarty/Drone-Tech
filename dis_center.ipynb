{
 "cells": [
  {
   "cell_type": "code",
   "execution_count": 20,
   "metadata": {},
   "outputs": [],
   "source": [
    "import cv2 \n",
    "import numpy as np \n",
    "import imutils\n",
    "import math"
   ]
  },
  {
   "cell_type": "code",
   "execution_count": 23,
   "metadata": {},
   "outputs": [
    {
     "name": "stdout",
     "output_type": "stream",
     "text": [
      "Number of Contours found = 7\n"
     ]
    }
   ],
   "source": [
    "\n",
    "# Let's load a simple image with 3 black squares \n",
    "image = cv2.imread('disparity.png') \n",
    "cv2.waitKey(0) \n",
    "\n",
    "# Grayscale \n",
    "gray = cv2.cvtColor(image, cv2.COLOR_BGR2GRAY) \n",
    "\n",
    "# Find Canny edges \n",
    "edged = cv2.Canny(gray, 30, 200) \n",
    "cv2.waitKey(0) \n",
    "\n",
    "# Finding Contours \n",
    "# Use a copy of the image e.g. edged.copy() \n",
    "# since findContours alters the image \n",
    "contours, hierarchy = cv2.findContours(edged, \n",
    "\tcv2.RETR_EXTERNAL, cv2.CHAIN_APPROX_NONE) \n",
    "\n",
    "cv2.imshow('Canny Edges After Contouring', edged) \n",
    "cv2.waitKey(0) \n",
    "\n",
    "print(\"Number of Contours found = \" + str(len(contours))) \n",
    "\n",
    "# Draw all contours \n",
    "# -1 signifies drawing all contours \n",
    "cv2.drawContours(image, contours, -1, (0, 0, 255), 3) \n",
    "\n",
    "cv2.imshow('Contours', image) \n",
    "cv2.waitKey(0) \n",
    "cv2.destroyAllWindows() \n"
   ]
  },
  {
   "cell_type": "code",
   "execution_count": 28,
   "metadata": {},
   "outputs": [
    {
     "name": "stdout",
     "output_type": "stream",
     "text": [
      "0.5\n",
      "53 133\n",
      "0.5\n",
      "56 132\n",
      "1.0\n",
      "55 122\n",
      "0.0\n",
      "0.0\n",
      "0.0\n",
      "1.5\n",
      "7.0\n",
      "9.5\n",
      "195 80\n",
      "17.0\n",
      "26 77\n",
      "0.0\n",
      "3.0\n",
      "4.0\n",
      "2848.5\n",
      "225 20\n",
      "3248.5\n"
     ]
    }
   ],
   "source": [
    "gray = cv2.cvtColor(image, cv2.COLOR_BGR2GRAY)\n",
    "blurred = cv2.GaussianBlur(gray, (5, 5), 0)\n",
    "thresh = cv2.threshold(blurred, 60, 255, cv2.THRESH_BINARY_INV)[1]\n",
    "cnts = cv2.findContours(thresh.copy(), cv2.RETR_EXTERNAL,cv2.CHAIN_APPROX_SIMPLE)\n",
    "cnts = imutils.grab_contours(cnts)\n",
    "#print(cnts)\n",
    "m=0\n",
    "for c in cnts:\n",
    "    #print(c)\n",
    "    #print(len(c))\n",
    "    #continue\n",
    "    area=cv2.contourArea(c)\n",
    "    print(area)\n",
    "    if area>m:\n",
    "        #print(c)\n",
    "        \n",
    "        m=area\n",
    "        M = cv2.moments(c)\n",
    "        cX = int(M[\"m10\"] / (M[\"m00\"] ))\n",
    "        cY = int(M[\"m01\"] / (M[\"m00\"]))\n",
    "    #print(len(c))\n",
    "    # compute the center of the contour\n",
    "        print(cX,cY)\n",
    "\n",
    "color = np.array(image[cY][cX])\n",
    "cv2.circle(image, (int(cX), int(cY)), 5, (255, 0, 0), -1)\n",
    "cv2.imshow('Contours', image) \n",
    "cv2.waitKey(0) \n",
    "cv2.destroyAllWindows() "
   ]
  },
  {
   "cell_type": "code",
   "execution_count": 19,
   "metadata": {},
   "outputs": [
    {
     "data": {
      "text/plain": [
       "(480, 640, 3)"
      ]
     },
     "execution_count": 19,
     "metadata": {},
     "output_type": "execute_result"
    }
   ],
   "source": [
    "image.shape"
   ]
  },
  {
   "cell_type": "code",
   "execution_count": 10,
   "metadata": {},
   "outputs": [
    {
     "name": "stdout",
     "output_type": "stream",
     "text": [
      "[68 68 68]\n",
      "[95 95 95]\n"
     ]
    }
   ],
   "source": [
    "print(image[125][192]) # Let this distance be 2 m\n",
    "print(image[110][116]) # Let this distance be 4 m"
   ]
  },
  {
   "cell_type": "code",
   "execution_count": 11,
   "metadata": {},
   "outputs": [
    {
     "data": {
      "text/plain": [
       "array([66, 66, 66], dtype=uint8)"
      ]
     },
     "execution_count": 11,
     "metadata": {},
     "output_type": "execute_result"
    }
   ],
   "source": [
    "color"
   ]
  },
  {
   "cell_type": "code",
   "execution_count": 12,
   "metadata": {},
   "outputs": [],
   "source": [
    "# Let 160 -> 2 m, 121 -> 4m\n",
    "# By Linear Regression, y = x*-0.02820855 + 7.03992702\n",
    "\n",
    "def colorToDistance(color, slope = -0.02820855, constant = 7.03992702):\n",
    "    # Simple Linear Regression\n",
    "    return color*slope + constant"
   ]
  },
  {
   "cell_type": "code",
   "execution_count": 13,
   "metadata": {},
   "outputs": [],
   "source": [
    "def pixelToComponents(pixel, distance, heading = 0, currentLocation = (0,0,0), image_size = image.shape[:2], max_angleX = math.radians(90)):\n",
    "    # heading = 0 means heading towards X axis, 90 means Y axis and so on\n",
    "    # max_x / 2 is equal to heading angle. if this - x = 0, then X,Y = distance*cos(heading), distance*sin(heading)\n",
    "    # AngleXY \n",
    "    max_y, max_x = image_size\n",
    "    x,y = pixel\n",
    "    mid_x = max_x / 2\n",
    "    mid_y = max_y / 2\n",
    "    deltaAngle = ((x - mid_x) / max_x) * max_angleX\n",
    "    angleXY = heading - deltaAngle\n",
    "    angleZ = -((y - mid_y) / max_y) * max_angleX\n",
    "    return np.multiply(distance, [math.cos(angleXY), math.sin(angleXY), math.sin(angleZ)])"
   ]
  },
  {
   "cell_type": "code",
   "execution_count": 14,
   "metadata": {},
   "outputs": [
    {
     "name": "stdout",
     "output_type": "stream",
     "text": [
      "[5.17816272 5.17816272 5.17816272]\n",
      "[5.03804139 1.19645648 3.41419992]\n"
     ]
    }
   ],
   "source": [
    "dis = colorToDistance(color)\n",
    "print(dis)\n",
    "print(pixelToComponents((cX,cY), dis))"
   ]
  },
  {
   "cell_type": "code",
   "execution_count": 15,
   "metadata": {},
   "outputs": [
    {
     "data": {
      "text/plain": [
       "array([4.95519277, 1.50314129, 0.77655226])"
      ]
     },
     "execution_count": 15,
     "metadata": {},
     "output_type": "execute_result"
    }
   ],
   "source": [
    "pixelToComponents((200, 194), dis)"
   ]
  },
  {
   "cell_type": "code",
   "execution_count": null,
   "metadata": {},
   "outputs": [],
   "source": []
  },
  {
   "cell_type": "code",
   "execution_count": null,
   "metadata": {},
   "outputs": [],
   "source": [
    "\n"
   ]
  },
  {
   "cell_type": "code",
   "execution_count": 89,
   "metadata": {},
   "outputs": [],
   "source": []
  },
  {
   "cell_type": "code",
   "execution_count": null,
   "metadata": {},
   "outputs": [],
   "source": []
  }
 ],
 "metadata": {
  "kernelspec": {
   "display_name": "Python 3",
   "language": "python",
   "name": "python3"
  },
  "language_info": {
   "codemirror_mode": {
    "name": "ipython",
    "version": 3
   },
   "file_extension": ".py",
   "mimetype": "text/x-python",
   "name": "python",
   "nbconvert_exporter": "python",
   "pygments_lexer": "ipython3",
   "version": "3.7.3"
  }
 },
 "nbformat": 4,
 "nbformat_minor": 2
}
