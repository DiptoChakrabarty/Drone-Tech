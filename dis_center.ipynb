{
 "cells": [
  {
   "cell_type": "code",
   "execution_count": 1,
   "metadata": {},
   "outputs": [],
   "source": [
    "import cv2 \n",
    "import numpy as np \n",
    "import imutils\n",
    "import math"
   ]
  },
  {
   "cell_type": "code",
   "execution_count": 2,
   "metadata": {},
   "outputs": [
    {
     "name": "stdout",
     "output_type": "stream",
     "text": [
      "Number of Contours found = 405\n"
     ]
    }
   ],
   "source": [
    "\n",
    "# Let's load a simple image with 3 black squares \n",
    "image = cv2.imread('house.png') \n",
    "cv2.waitKey(0) \n",
    "\n",
    "# Grayscale \n",
    "gray = cv2.cvtColor(image, cv2.COLOR_BGR2GRAY) \n",
    "\n",
    "# Find Canny edges \n",
    "edged = cv2.Canny(gray, 30, 200) \n",
    "cv2.waitKey(0) \n",
    "\n",
    "# Finding Contours \n",
    "# Use a copy of the image e.g. edged.copy() \n",
    "# since findContours alters the image \n",
    "contours, hierarchy = cv2.findContours(edged, \n",
    "\tcv2.RETR_EXTERNAL, cv2.CHAIN_APPROX_NONE) \n",
    "\n",
    "cv2.imshow('Canny Edges After Contouring', edged) \n",
    "cv2.waitKey(0) \n",
    "\n",
    "print(\"Number of Contours found = \" + str(len(contours))) \n",
    "\n",
    "# Draw all contours \n",
    "# -1 signifies drawing all contours \n",
    "cv2.drawContours(image, contours, -1, (0, 0, 255), 3) \n",
    "\n",
    "cv2.imshow('Contours', image) \n",
    "cv2.waitKey(0) \n",
    "cv2.destroyAllWindows() \n"
   ]
  },
  {
   "cell_type": "code",
   "execution_count": 3,
   "metadata": {},
   "outputs": [
    {
     "name": "stdout",
     "output_type": "stream",
     "text": [
      "0.0\n",
      "147.0\n",
      "635 589\n",
      "1.0\n",
      "0.0\n",
      "0.0\n",
      "0.0\n",
      "490.0\n",
      "659 581\n",
      "2.5\n",
      "1.5\n",
      "30.5\n",
      "3.0\n",
      "0.0\n",
      "0.0\n",
      "0.0\n",
      "951.0\n",
      "384 558\n",
      "5.5\n",
      "1.0\n",
      "0.0\n",
      "21.0\n",
      "6.5\n",
      "15.5\n",
      "78.5\n",
      "3.5\n",
      "7.5\n",
      "0.0\n",
      "436.0\n",
      "511.5\n",
      "0.5\n",
      "0.5\n",
      "0.5\n",
      "8.5\n",
      "0.0\n",
      "0.0\n",
      "38.5\n",
      "3.0\n",
      "0.0\n",
      "23151.5\n",
      "1062 461\n",
      "0.0\n",
      "0.0\n",
      "0.0\n",
      "37.0\n",
      "3.5\n",
      "0.0\n",
      "2.5\n",
      "17.0\n",
      "0.0\n",
      "3.0\n",
      "0.0\n",
      "19089.5\n",
      "8.0\n",
      "14.0\n",
      "13.0\n",
      "0.0\n",
      "7.0\n",
      "2.0\n",
      "39.0\n",
      "119.5\n",
      "14.5\n",
      "9.0\n",
      "0.0\n",
      "0.0\n",
      "3.0\n",
      "30.0\n",
      "6.0\n",
      "0.0\n",
      "1.0\n",
      "0.5\n",
      "0.5\n",
      "5.5\n",
      "0.0\n",
      "0.0\n",
      "0.5\n",
      "10.0\n",
      "0.0\n",
      "0.5\n",
      "13.0\n",
      "1.5\n",
      "0.0\n",
      "0.0\n",
      "0.0\n",
      "2.0\n",
      "3.5\n",
      "0.0\n",
      "172.5\n",
      "0.0\n",
      "91.5\n",
      "12.5\n",
      "0.5\n",
      "42.0\n",
      "0.0\n",
      "464.5\n",
      "24.5\n",
      "99.5\n",
      "24.5\n",
      "15.0\n",
      "6.0\n",
      "178.5\n",
      "0.0\n",
      "4.5\n",
      "3.5\n",
      "0.5\n",
      "1.0\n",
      "30.0\n",
      "39.5\n",
      "1292.0\n",
      "690.0\n",
      "1.0\n",
      "7.5\n",
      "660.5\n",
      "0.0\n",
      "669.0\n",
      "626.5\n",
      "281.5\n",
      "21.0\n",
      "742.0\n",
      "385.5\n",
      "2.0\n",
      "4.0\n",
      "133.5\n",
      "40.0\n",
      "35.5\n",
      "18.0\n",
      "2.5\n",
      "134.5\n",
      "143.0\n",
      "3030.0\n",
      "5.5\n",
      "1.0\n",
      "1971.0\n",
      "8.5\n",
      "0.0\n",
      "0.0\n",
      "0.0\n",
      "14.0\n",
      "0.0\n",
      "19.5\n",
      "7.0\n",
      "1.0\n",
      "17.0\n",
      "2246.5\n",
      "11.5\n",
      "2586.0\n",
      "3.5\n",
      "1862.0\n",
      "6.5\n",
      "10.5\n",
      "2.5\n",
      "342.5\n",
      "1047.5\n",
      "0.0\n",
      "342353.5\n",
      "514 309\n"
     ]
    }
   ],
   "source": [
    "gray = cv2.cvtColor(image, cv2.COLOR_BGR2GRAY)\n",
    "blurred = cv2.GaussianBlur(gray, (5, 5), 0)\n",
    "thresh = cv2.threshold(blurred, 60, 255, cv2.THRESH_BINARY_INV)[1]\n",
    "cnts = cv2.findContours(thresh.copy(), cv2.RETR_EXTERNAL,cv2.CHAIN_APPROX_SIMPLE)\n",
    "cnts = imutils.grab_contours(cnts)\n",
    "#print(cnts)\n",
    "m=0\n",
    "for c in cnts:\n",
    "    #print(c)\n",
    "    #print(len(c))\n",
    "    #continue\n",
    "    area=cv2.contourArea(c)\n",
    "    print(area)\n",
    "    if area>m:\n",
    "        #print(c)\n",
    "        m=area\n",
    "        M = cv2.moments(c)\n",
    "        cX = int(M[\"m10\"] / (M[\"m00\"] ))\n",
    "        cY = int(M[\"m01\"] / (M[\"m00\"]))\n",
    "    #print(len(c))\n",
    "    # compute the center of the contour\n",
    "        #print(cX,cY)\n",
    "\n",
    "color = np.array(image[cY][cX])\n",
    "cv2.circle(image, (int(cX), int(cY)), 5, (255, 0, 0), -1)\n",
    "cv2.imshow('Contours', image) \n",
    "cv2.waitKey(0) \n",
    "cv2.destroyAllWindows() "
   ]
  },
  {
   "cell_type": "code",
   "execution_count": 4,
   "metadata": {},
   "outputs": [
    {
     "data": {
      "text/plain": [
       "(864, 1152, 3)"
      ]
     },
     "execution_count": 4,
     "metadata": {},
     "output_type": "execute_result"
    }
   ],
   "source": [
    "image.shape"
   ]
  },
  {
   "cell_type": "code",
   "execution_count": 5,
   "metadata": {},
   "outputs": [
    {
     "name": "stdout",
     "output_type": "stream",
     "text": [
      "[47 47 47]\n",
      "[69 69 69]\n"
     ]
    }
   ],
   "source": [
    "print(image[125][192]) # Let this distance be 2 m\n",
    "print(image[110][116]) # Let this distance be 4 m"
   ]
  },
  {
   "cell_type": "code",
   "execution_count": 6,
   "metadata": {},
   "outputs": [
    {
     "data": {
      "text/plain": [
       "array([56, 56, 56], dtype=uint8)"
      ]
     },
     "execution_count": 6,
     "metadata": {},
     "output_type": "execute_result"
    }
   ],
   "source": [
    "color"
   ]
  },
  {
   "cell_type": "code",
   "execution_count": 7,
   "metadata": {},
   "outputs": [],
   "source": [
    "# Let 160 -> 2 m, 121 -> 4m\n",
    "# By Linear Regression, y = x*-0.02820855 + 7.03992702\n",
    "\n",
    "def colorToDistance(color, slope = -0.02820855, constant = 7.03992702):\n",
    "    # Simple Linear Regression\n",
    "    return color*slope + constant"
   ]
  },
  {
   "cell_type": "code",
   "execution_count": 8,
   "metadata": {},
   "outputs": [],
   "source": [
    "def pixelToComponents(pixel, distance, heading = 0, currentLocation = (0,0,0), image_size = image.shape[:2], max_angleX = math.radians(90)):\n",
    "    # heading = 0 means heading towards X axis, 90 means Y axis and so on\n",
    "    # max_x / 2 is equal to heading angle. if this - x = 0, then X,Y = distance*cos(heading), distance*sin(heading)\n",
    "    # AngleXY \n",
    "    max_y, max_x = image_size\n",
    "    x,y = pixel\n",
    "    mid_x = max_x / 2\n",
    "    mid_y = max_y / 2\n",
    "    deltaAngle = ((x - mid_x) / max_x) * max_angleX\n",
    "    angleXY = heading - deltaAngle\n",
    "    angleZ = -((y - mid_y) / max_y) * max_angleX\n",
    "    return np.multiply(distance, [math.cos(angleXY), math.sin(angleXY), math.sin(angleZ)])"
   ]
  },
  {
   "cell_type": "code",
   "execution_count": 9,
   "metadata": {},
   "outputs": [
    {
     "name": "stdout",
     "output_type": "stream",
     "text": [
      "[5.46024822 5.46024822 5.46024822]\n",
      "[5.44074789 0.46105638 1.2108714 ]\n"
     ]
    }
   ],
   "source": [
    "dis = colorToDistance(color)\n",
    "print(dis)\n",
    "print(pixelToComponents((cX,cY), dis))"
   ]
  },
  {
   "cell_type": "code",
   "execution_count": 10,
   "metadata": {},
   "outputs": [
    {
     "data": {
      "text/plain": [
       "array([4.75821278, 2.67838044, 2.28959154])"
      ]
     },
     "execution_count": 10,
     "metadata": {},
     "output_type": "execute_result"
    }
   ],
   "source": [
    "pixelToComponents((200, 194), dis)"
   ]
  },
  {
   "cell_type": "code",
   "execution_count": null,
   "metadata": {},
   "outputs": [],
   "source": []
  },
  {
   "cell_type": "code",
   "execution_count": null,
   "metadata": {},
   "outputs": [],
   "source": [
    "\n"
   ]
  },
  {
   "cell_type": "code",
   "execution_count": 89,
   "metadata": {},
   "outputs": [],
   "source": []
  },
  {
   "cell_type": "code",
   "execution_count": null,
   "metadata": {},
   "outputs": [],
   "source": []
  }
 ],
 "metadata": {
  "kernelspec": {
   "display_name": "Python 3",
   "language": "python",
   "name": "python3"
  },
  "language_info": {
   "codemirror_mode": {
    "name": "ipython",
    "version": 3
   },
   "file_extension": ".py",
   "mimetype": "text/x-python",
   "name": "python",
   "nbconvert_exporter": "python",
   "pygments_lexer": "ipython3",
   "version": "3.7.3"
  }
 },
 "nbformat": 4,
 "nbformat_minor": 2
}
